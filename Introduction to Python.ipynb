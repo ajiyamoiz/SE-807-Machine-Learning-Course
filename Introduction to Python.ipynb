{
  "nbformat": 4,
  "nbformat_minor": 0,
  "metadata": {
    "colab": {
      "provenance": []
    },
    "kernelspec": {
      "name": "python3",
      "display_name": "Python 3"
    }
  },
  "cells": [
    {
      "cell_type": "code",
      "metadata": {
        "id": "Bw2Xau_EeR0d"
      },
      "source": [
        "x = [10,20,30,40,50,60]\n",
        "print(x)"
      ],
      "execution_count": null,
      "outputs": []
    },
    {
      "cell_type": "code",
      "source": [
        "print(x[1])"
      ],
      "metadata": {
        "id": "_0B2699v3o_y"
      },
      "execution_count": null,
      "outputs": []
    },
    {
      "cell_type": "code",
      "metadata": {
        "id": "IXQtq5mqefKP"
      },
      "source": [
        "x[1:5:2]"
      ],
      "execution_count": null,
      "outputs": []
    },
    {
      "cell_type": "code",
      "metadata": {
        "colab": {
          "base_uri": "https://localhost:8080/"
        },
        "id": "0wyhr6CXqVjJ",
        "outputId": "d744e40d-2da1-4ed0-c72e-721c9de605b9"
      },
      "source": [
        "import numpy as np\n",
        "\n",
        "y = np.array([[1,2,3],[4,5,6],[7,8,9]])\n",
        "print(y)"
      ],
      "execution_count": null,
      "outputs": [
        {
          "output_type": "stream",
          "text": [
            "[[1 2 3]\n",
            " [4 5 6]\n",
            " [7 8 9]]\n"
          ],
          "name": "stdout"
        }
      ]
    },
    {
      "cell_type": "code",
      "metadata": {
        "colab": {
          "base_uri": "https://localhost:8080/"
        },
        "id": "XoiSsKOos95u",
        "outputId": "2b63dce9-4a66-45ec-ec18-fde885a4627f"
      },
      "source": [
        "print(y[0,1])"
      ],
      "execution_count": null,
      "outputs": [
        {
          "output_type": "stream",
          "text": [
            "2\n"
          ],
          "name": "stdout"
        }
      ]
    },
    {
      "cell_type": "code",
      "metadata": {
        "colab": {
          "base_uri": "https://localhost:8080/"
        },
        "id": "PSXda3VCx6Kn",
        "outputId": "2fecf228-9e2f-4ed6-90fe-f103242df0fe"
      },
      "source": [
        "z = np.array([[[1,2,3],[2,4,5],[5,6,7]],[[2,5,4],[2,6,5],[5,6,5]],[[3,6,6],[4,6,5],[8,5,5]]])\n",
        "print(z)"
      ],
      "execution_count": null,
      "outputs": [
        {
          "output_type": "stream",
          "text": [
            "[[[1 2 3]\n",
            "  [2 4 5]\n",
            "  [5 6 7]]\n",
            "\n",
            " [[2 5 4]\n",
            "  [2 6 5]\n",
            "  [5 6 5]]\n",
            "\n",
            " [[3 6 6]\n",
            "  [4 6 5]\n",
            "  [8 5 5]]]\n"
          ],
          "name": "stdout"
        }
      ]
    },
    {
      "cell_type": "code",
      "metadata": {
        "colab": {
          "base_uri": "https://localhost:8080/"
        },
        "id": "IpaLi1H3qrlK",
        "outputId": "fb5334fe-b52d-46f1-bbd4-7736c186a723"
      },
      "source": [
        "y[0,2]"
      ],
      "execution_count": null,
      "outputs": [
        {
          "output_type": "execute_result",
          "data": {
            "text/plain": [
              "3"
            ]
          },
          "metadata": {
            "tags": []
          },
          "execution_count": 9
        }
      ]
    },
    {
      "cell_type": "code",
      "metadata": {
        "colab": {
          "base_uri": "https://localhost:8080/"
        },
        "id": "6Bjl583yrxEb",
        "outputId": "9af65d12-49e2-4b99-fafc-ae805a53f01f"
      },
      "source": [
        "y = np.array([[1,2,3],[4,5,6]])\n",
        "print(y)"
      ],
      "execution_count": null,
      "outputs": [
        {
          "output_type": "stream",
          "text": [
            "[[1 2 3]\n",
            " [4 5 6]]\n"
          ],
          "name": "stdout"
        }
      ]
    },
    {
      "cell_type": "code",
      "metadata": {
        "colab": {
          "base_uri": "https://localhost:8080/"
        },
        "id": "PhiirG-NsNHR",
        "outputId": "7a8bb37e-71c3-443d-bf21-17e7a1d8560d"
      },
      "source": [
        "y[0,:]\n",
        "print(y[0,:])"
      ],
      "execution_count": null,
      "outputs": [
        {
          "output_type": "stream",
          "text": [
            "[1 2 3]\n"
          ],
          "name": "stdout"
        }
      ]
    },
    {
      "cell_type": "code",
      "metadata": {
        "colab": {
          "base_uri": "https://localhost:8080/"
        },
        "id": "i5UaPnU3soi-",
        "outputId": "031e8ada-59a8-42c2-a1a2-87387a0cad12"
      },
      "source": [
        "print(y[:,0])"
      ],
      "execution_count": null,
      "outputs": [
        {
          "output_type": "stream",
          "text": [
            "[1 4]\n"
          ],
          "name": "stdout"
        }
      ]
    },
    {
      "cell_type": "code",
      "metadata": {
        "id": "__8uznDvfCbz"
      },
      "source": [
        "from pylab import *\n",
        "\n",
        "y = sin(x)\n",
        "plot(x,y)\n",
        "xlabel('This is x-axis')\n",
        "ylabel('This is y-axis')\n",
        "title('This is the title')\n",
        "\n",
        "z = cos(x)\n",
        "plot(x,z,'r')"
      ],
      "execution_count": null,
      "outputs": []
    },
    {
      "cell_type": "code",
      "metadata": {
        "id": "AIHM9R-HgOQ0"
      },
      "source": [
        "site = 'gfg'\n",
        "yourName = 'wajahat'\n",
        "    \n",
        "if site == 'gfx':  \n",
        "  print('Logging on to geeksforgeeks...')\n",
        "  print('Tab is important in python')\n",
        "  if  yourName=='wajahat':\n",
        "     print('This is nested if')\n",
        "else:  \n",
        "    print('retype the URL.')\n",
        "    print('Tab is not imp in matlab')  \n",
        "print('All set !') "
      ],
      "execution_count": null,
      "outputs": []
    },
    {
      "cell_type": "code",
      "metadata": {
        "id": "qetz0aYGe6G8"
      },
      "source": [
        "site = 'gfg'\n",
        "yourName = 'wajahat'\n",
        "    \n",
        "if site == 'gfx': \n",
        "   print('Logging on to geeksforgeeks...')\n",
        "   print('Tab is important in python')\n",
        "if  yourName=='wajahat':\n",
        "     print('This is nested if')\n",
        "else:  \n",
        "    print('retype the URL.')\n",
        "    print('Tab is not imp in matlab')  \n",
        "print('All set !') "
      ],
      "execution_count": null,
      "outputs": []
    },
    {
      "cell_type": "code",
      "metadata": {
        "id": "SErQQqIjiBpz",
        "colab": {
          "base_uri": "https://localhost:8080/"
        },
        "outputId": "998c7621-a965-4415-c543-5569e9c4884b"
      },
      "source": [
        "y =[10,20,3,4,-5]\n",
        "for i in y:\n",
        "  print(i)\n",
        "print(y)"
      ],
      "execution_count": null,
      "outputs": [
        {
          "output_type": "stream",
          "name": "stdout",
          "text": [
            "10\n",
            "20\n",
            "3\n",
            "4\n",
            "-5\n",
            "[10, 20, 3, 4, -5]\n"
          ]
        }
      ]
    },
    {
      "cell_type": "code",
      "metadata": {
        "id": "ZQFT3c6Xi252"
      },
      "source": [
        "def my_add(x,y):\n",
        "  c = x + y\n",
        "  d = x*y\n",
        "  return c,y"
      ],
      "execution_count": null,
      "outputs": []
    },
    {
      "cell_type": "code",
      "source": [
        "a,b = my_add(3,4)\n",
        "print(a)\n",
        "print(b)"
      ],
      "metadata": {
        "colab": {
          "base_uri": "https://localhost:8080/"
        },
        "id": "5BcU2k4Vy32H",
        "outputId": "bc0edf75-10de-4a25-8a82-b7518442deb4"
      },
      "execution_count": null,
      "outputs": [
        {
          "output_type": "stream",
          "name": "stdout",
          "text": [
            "7\n",
            "4\n"
          ]
        }
      ]
    },
    {
      "cell_type": "code",
      "metadata": {
        "id": "5aCC1aiSjSB8",
        "colab": {
          "base_uri": "https://localhost:8080/"
        },
        "outputId": "4ad878c0-bcdf-469b-fc2a-6e006c51493a"
      },
      "source": [
        "print(my_add(3,4))"
      ],
      "execution_count": null,
      "outputs": [
        {
          "output_type": "stream",
          "name": "stdout",
          "text": [
            "(7, 4)\n"
          ]
        }
      ]
    },
    {
      "cell_type": "code",
      "metadata": {
        "colab": {
          "base_uri": "https://localhost:8080/"
        },
        "id": "HOlMX9R2X_oq",
        "outputId": "edd0cb6d-8fdb-4591-9d18-67723980b2c1"
      },
      "source": [
        "x = np.array([1,2,3,4,5])\n",
        "dumx = [2*i for i in x if i>2]\n",
        "print(dumx)"
      ],
      "execution_count": null,
      "outputs": [
        {
          "output_type": "stream",
          "text": [
            "[6, 8, 10]\n"
          ],
          "name": "stdout"
        }
      ]
    },
    {
      "cell_type": "code",
      "metadata": {
        "id": "eLq1AGPYeTBH",
        "colab": {
          "base_uri": "https://localhost:8080/"
        },
        "outputId": "a12a414e-e90b-499f-ec55-a143c1b2d4e6"
      },
      "source": [
        "import numpy as np\n",
        "x = np.array([1,2,3,4,5,6])\n",
        "print(x.reshape(2,-1))"
      ],
      "execution_count": null,
      "outputs": [
        {
          "output_type": "stream",
          "name": "stdout",
          "text": [
            "[[1 2 3]\n",
            " [4 5 6]]\n"
          ]
        }
      ]
    },
    {
      "cell_type": "markdown",
      "metadata": {
        "id": "EFASeAA47oML"
      },
      "source": [
        "Good examples of reshaping https://numpy.org/doc/stable/reference/generated/numpy.reshape.html"
      ]
    },
    {
      "cell_type": "code",
      "metadata": {
        "colab": {
          "base_uri": "https://localhost:8080/"
        },
        "id": "UZuvPxIJ7bm6",
        "outputId": "b47a2630-c5d7-486d-98d1-94f3c0a1f64d"
      },
      "source": [
        "a = np.arange(6)\n",
        "print(a)\n",
        "\n",
        "print(a.reshape((3, 2)))"
      ],
      "execution_count": null,
      "outputs": [
        {
          "output_type": "stream",
          "text": [
            "[0 1 2 3 4 5]\n",
            "[[0 1]\n",
            " [2 3]\n",
            " [4 5]]\n"
          ],
          "name": "stdout"
        }
      ]
    },
    {
      "cell_type": "code",
      "metadata": {
        "colab": {
          "base_uri": "https://localhost:8080/"
        },
        "id": "dSgRURgS73k4",
        "outputId": "7cbcecc3-6a3f-4a35-9049-98b23ce18941"
      },
      "source": [
        "np.reshape(a, (2, 3), order='F')"
      ],
      "execution_count": null,
      "outputs": [
        {
          "output_type": "execute_result",
          "data": {
            "text/plain": [
              "array([[0, 2, 4],\n",
              "       [1, 3, 5]])"
            ]
          },
          "metadata": {
            "tags": []
          },
          "execution_count": 55
        }
      ]
    },
    {
      "cell_type": "code",
      "metadata": {
        "id": "aSyETd1r7mkg",
        "colab": {
          "base_uri": "https://localhost:8080/"
        },
        "outputId": "1b3cfc19-562b-44a8-eb07-26471931bd2b"
      },
      "source": [
        "np.reshape(a, (2, 3))"
      ],
      "execution_count": null,
      "outputs": [
        {
          "output_type": "execute_result",
          "data": {
            "text/plain": [
              "array([[0, 1, 2],\n",
              "       [3, 4, 5]])"
            ]
          },
          "metadata": {
            "tags": []
          },
          "execution_count": 54
        }
      ]
    },
    {
      "cell_type": "code",
      "metadata": {
        "colab": {
          "base_uri": "https://localhost:8080/"
        },
        "id": "kiMZMIen8Xtp",
        "outputId": "e888cb2d-4cb3-4481-a59c-ca3d416665aa"
      },
      "source": [
        "a = np.arange(6).reshape((3, 2))\n",
        "print(a)"
      ],
      "execution_count": null,
      "outputs": [
        {
          "output_type": "stream",
          "text": [
            "[[0 1]\n",
            " [2 3]\n",
            " [4 5]]\n"
          ],
          "name": "stdout"
        }
      ]
    },
    {
      "cell_type": "code",
      "metadata": {
        "colab": {
          "base_uri": "https://localhost:8080/"
        },
        "id": "VXbgEyfD8uzX",
        "outputId": "a1bb9d82-64c3-4935-a1b4-6c9efa9b8885"
      },
      "source": [
        "a = np.array([[1,2,3], [4,5,6]])\n",
        "print(a)"
      ],
      "execution_count": null,
      "outputs": [
        {
          "output_type": "stream",
          "text": [
            "[[1 2 3]\n",
            " [4 5 6]]\n"
          ],
          "name": "stdout"
        }
      ]
    },
    {
      "cell_type": "code",
      "metadata": {
        "colab": {
          "base_uri": "https://localhost:8080/"
        },
        "id": "Rr8BRc248x4O",
        "outputId": "85468470-1478-4b97-a3f0-8dd6eb9c066e"
      },
      "source": [
        "np.reshape(a, (3,-1))"
      ],
      "execution_count": null,
      "outputs": [
        {
          "output_type": "execute_result",
          "data": {
            "text/plain": [
              "array([[1, 2],\n",
              "       [3, 4],\n",
              "       [5, 6]])"
            ]
          },
          "metadata": {
            "tags": []
          },
          "execution_count": 57
        }
      ]
    },
    {
      "cell_type": "code",
      "metadata": {
        "colab": {
          "base_uri": "https://localhost:8080/"
        },
        "id": "gUKtWOWy9Uyg",
        "outputId": "553f0e65-5026-4543-d70e-d163f5ce4113"
      },
      "source": [
        "arr = np.array([1, 2, 3, 4, 5, 6, 7, 8])\n",
        "\n",
        "newarr = arr.reshape(2, 2, -1)\n",
        "\n",
        "print(newarr)"
      ],
      "execution_count": null,
      "outputs": [
        {
          "output_type": "stream",
          "text": [
            "[[[1 2]\n",
            "  [3 4]]\n",
            "\n",
            " [[5 6]\n",
            "  [7 8]]]\n"
          ],
          "name": "stdout"
        }
      ]
    },
    {
      "cell_type": "code",
      "metadata": {
        "colab": {
          "base_uri": "https://localhost:8080/"
        },
        "id": "LXcqhcnSk0R4",
        "outputId": "b4565e40-8dd3-4cf5-c7cf-58406060a583"
      },
      "source": [
        "x = np.random.randn(4, 3, 2, 2)\n",
        "#print(x)\n",
        "#print(x[1])\n",
        "\n",
        "y = x[1].copy()\n",
        "z=y.flatten()\n",
        "print(z)\n",
        "print(z.shape)"
      ],
      "execution_count": null,
      "outputs": [
        {
          "output_type": "stream",
          "text": [
            "[-0.81497352  0.40876245  0.23407873 -0.59346759 -0.23628579 -0.20230445\n",
            " -0.43976482  0.02656888 -1.61221444  0.31207507  1.12111517  0.40902655]\n",
            "(12,)\n"
          ],
          "name": "stdout"
        }
      ]
    },
    {
      "cell_type": "code",
      "metadata": {
        "id": "g9x9yaOUre2R"
      },
      "source": [
        "import numpy as np\n",
        "\n",
        "a3 = np.array([[[10, 11, 12], [13, 14, 15], [16, 17, 18]],\n",
        "               [[20, 21, 22], [23, 24, 25], [26, 27, 28]],\n",
        "               [[30, 31, 32], [33, 34, 35], [36, 37, 38]]])"
      ],
      "execution_count": null,
      "outputs": []
    },
    {
      "cell_type": "code",
      "metadata": {
        "id": "lzILp0m4rqjd",
        "colab": {
          "base_uri": "https://localhost:8080/"
        },
        "outputId": "b2911f94-8d2e-4c18-e39f-9e9cdac12de4"
      },
      "source": [
        "print(a3)"
      ],
      "execution_count": null,
      "outputs": [
        {
          "output_type": "stream",
          "text": [
            "[[[10 11 12]\n",
            "  [13 14 15]\n",
            "  [16 17 18]]\n",
            "\n",
            " [[20 21 22]\n",
            "  [23 24 25]\n",
            "  [26 27 28]]\n",
            "\n",
            " [[30 31 32]\n",
            "  [33 34 35]\n",
            "  [36 37 38]]]\n"
          ],
          "name": "stdout"
        }
      ]
    },
    {
      "cell_type": "code",
      "metadata": {
        "id": "pgMhMPsr5VGr",
        "colab": {
          "base_uri": "https://localhost:8080/"
        },
        "outputId": "45540503-4403-4cb1-d485-f105e786f849"
      },
      "source": [
        "print(a3[2,:,:])"
      ],
      "execution_count": null,
      "outputs": [
        {
          "output_type": "stream",
          "text": [
            "[[30 31 32]\n",
            " [33 34 35]\n",
            " [36 37 38]]\n"
          ],
          "name": "stdout"
        }
      ]
    },
    {
      "cell_type": "markdown",
      "metadata": {
        "id": "Xv6Xlp2w4y1_"
      },
      "source": [
        "Very good pictorial description at https://www.pythoninformer.com/python-libraries/numpy/index-and-slice/\n",
        "\n",
        "\n",
        "```\n",
        "# This is formatted as code\n",
        "```\n",
        "\n"
      ]
    },
    {
      "cell_type": "code",
      "metadata": {
        "id": "XDpvPytT5P7M",
        "colab": {
          "base_uri": "https://localhost:8080/"
        },
        "outputId": "9c78cd1b-0c32-4233-8c39-71fd82a630f9"
      },
      "source": [
        "print(a3[:, 1, 2])"
      ],
      "execution_count": null,
      "outputs": [
        {
          "output_type": "stream",
          "text": [
            "[15 25 35]\n"
          ],
          "name": "stdout"
        }
      ]
    },
    {
      "cell_type": "code",
      "metadata": {
        "id": "d1mEN50o5EXg",
        "colab": {
          "base_uri": "https://localhost:8080/"
        },
        "outputId": "5602beb3-680b-4fa0-d105-743eab00df60"
      },
      "source": [
        "print(a3[0, :, 1])"
      ],
      "execution_count": null,
      "outputs": [
        {
          "output_type": "stream",
          "text": [
            "[11 14 17]\n"
          ],
          "name": "stdout"
        }
      ]
    },
    {
      "cell_type": "code",
      "metadata": {
        "id": "xgutlcy_4nmw",
        "colab": {
          "base_uri": "https://localhost:8080/"
        },
        "outputId": "f61b496e-1155-435b-dfd8-314ff53511d0"
      },
      "source": [
        "print(a3[1, 2])"
      ],
      "execution_count": null,
      "outputs": [
        {
          "output_type": "stream",
          "text": [
            "[26 27 28]\n"
          ],
          "name": "stdout"
        }
      ]
    },
    {
      "cell_type": "code",
      "metadata": {
        "id": "lIcET5a65Ywj",
        "colab": {
          "base_uri": "https://localhost:8080/"
        },
        "outputId": "4d675080-c3f2-42d6-c1f1-7c1de2d5dcfe"
      },
      "source": [
        "print(a3[2, 0, 1])"
      ],
      "execution_count": null,
      "outputs": [
        {
          "output_type": "stream",
          "text": [
            "31\n"
          ],
          "name": "stdout"
        }
      ]
    },
    {
      "cell_type": "code",
      "metadata": {
        "id": "UU0ul2Cb5lIM"
      },
      "source": [
        "print(a3[:, 1])"
      ],
      "execution_count": null,
      "outputs": []
    },
    {
      "cell_type": "code",
      "metadata": {
        "id": "mJii6MRA5shk"
      },
      "source": [
        "print(a3[:, :, 0])"
      ],
      "execution_count": null,
      "outputs": []
    },
    {
      "cell_type": "code",
      "metadata": {
        "id": "knPYLIX75zKL"
      },
      "source": [
        "print(a3[:2,1:,:2])"
      ],
      "execution_count": null,
      "outputs": []
    },
    {
      "cell_type": "code",
      "metadata": {
        "id": "lMCTiJE1r2CH"
      },
      "source": [
        "print(a3[:,::2,::2])"
      ],
      "execution_count": null,
      "outputs": []
    }
  ]
}