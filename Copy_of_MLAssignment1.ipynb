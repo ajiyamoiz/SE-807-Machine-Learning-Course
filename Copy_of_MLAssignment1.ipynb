{
  "nbformat": 4,
  "nbformat_minor": 0,
  "metadata": {
    "colab": {
      "provenance": [],
      "authorship_tag": "ABX9TyMJv79LKwuNgwipAsTugiec",
      "include_colab_link": true
    },
    "kernelspec": {
      "name": "python3",
      "display_name": "Python 3"
    },
    "language_info": {
      "name": "python"
    }
  },
  "cells": [
    {
      "cell_type": "markdown",
      "metadata": {
        "id": "view-in-github",
        "colab_type": "text"
      },
      "source": [
        "<a href=\"https://colab.research.google.com/github/ajiyamoiz/SE-807-Machine-Learning-Course/blob/main/Copy_of_MLAssignment1.ipynb\" target=\"_parent\"><img src=\"https://colab.research.google.com/assets/colab-badge.svg\" alt=\"Open In Colab\"/></a>"
      ]
    },
    {
      "cell_type": "markdown",
      "source": [
        "# Assignment No.1\n"
      ],
      "metadata": {
        "id": "XfERZ5u1A9FQ"
      }
    },
    {
      "cell_type": "markdown",
      "source": [
        "```\n",
        "import cv2 \n",
        "from google.colab.patches import cv2_imshow \n",
        "img=cv2.imread(\"Robot.jpg\") \n",
        "cv2_imshow(img)\n",
        "\n",
        "```\n"
      ],
      "metadata": {
        "id": "iyInTjDJDome"
      }
    },
    {
      "cell_type": "markdown",
      "source": [
        "## K-Nearest Neighbor"
      ],
      "metadata": {
        "id": "ncWvknXf16si"
      }
    },
    {
      "cell_type": "code",
      "source": [
        "#Enter your path of dataset from google drive  \n",
        "import scipy.io as sio\n",
        "from matplotlib import pyplot as plt\n",
        "import numpy as np \n",
        "from scipy import misc\n",
        "import cv2\n",
        "from math import sqrt\n",
        "from numpy import ndarray\n",
        "\n",
        "GOOGLE_COLAB = True\n",
        "\n",
        "path = \"\"\n",
        "if GOOGLE_COLAB:\n",
        "    from google.colab import drive, files\n",
        "    drive.mount('/content/drive/')\n",
        "    path = \"/content/drive/MyDrive/Colab Notebooks/Machine Learning/\"\n",
        "\n",
        "dataset = path + \"data.mat\" \n",
        "\n",
        "#Enter path of your test image\n",
        "test_image = \"/content/drive/MyDrive/Colab Notebooks/Picture1.jpg\"\n",
        "mat_contents = sio.loadmat(dataset)\n",
        "mat_contents\n",
        "images = mat_contents['images']\n",
        "label = mat_contents['C']\n",
        "images.shape"
      ],
      "metadata": {
        "id": "76r7nKCkDhU6",
        "colab": {
          "base_uri": "https://localhost:8080/"
        },
        "outputId": "ea8a7166-abd0-415b-c292-d567ef89e754"
      },
      "execution_count": null,
      "outputs": [
        {
          "output_type": "stream",
          "name": "stdout",
          "text": [
            "Mounted at /content/drive/\n"
          ]
        },
        {
          "output_type": "execute_result",
          "data": {
            "text/plain": [
              "(50, 3072)"
            ]
          },
          "metadata": {},
          "execution_count": 1
        }
      ]
    },
    {
      "cell_type": "code",
      "source": [
        "#IMAGE RESHAPING IN STANDARD FORM\n",
        "images= np.transpose(images)\n",
        "images.shape\n",
        "im = np.reshape(images, [ 32, 32, 3, -1], order=\"F\")"
      ],
      "metadata": {
        "id": "j2ZIh7itzPLY"
      },
      "execution_count": null,
      "outputs": []
    },
    {
      "cell_type": "code",
      "source": [
        "plt.imshow(im[:,:,:,40])\n",
        "print(im[:,:,:,0].shape)\n",
        "a= im[:,:,:,40]\n",
        "plt.imshow(a)\n",
        "a.shape"
      ],
      "metadata": {
        "colab": {
          "base_uri": "https://localhost:8080/",
          "height": 301
        },
        "id": "PXWD_FtF1_OD",
        "outputId": "28b32a81-dfb6-4d27-b7fd-d32c8b6c2f04"
      },
      "execution_count": null,
      "outputs": [
        {
          "output_type": "stream",
          "name": "stdout",
          "text": [
            "(32, 32, 3)\n"
          ]
        },
        {
          "output_type": "execute_result",
          "data": {
            "text/plain": [
              "(32, 32, 3)"
            ]
          },
          "metadata": {},
          "execution_count": 3
        },
        {
          "output_type": "display_data",
          "data": {
            "text/plain": [
              "<Figure size 432x288 with 1 Axes>"
            ],
            "image/png": "[encoded data removed]"
          },
          "metadata": {
            "needs_background": "light"
          }
        }
      ]
    },
    {
      "cell_type": "code",
      "source": [
        "#Preprocessing the Test Image\n",
        "my_image = (cv2.imread(test_image))\n",
        "my_image = cv2.cvtColor(my_image, cv2.COLOR_RGB2BGR)\n",
        "my_image = cv2.resize(my_image,(32,32))\n",
        "plt.imshow(my_image)"
      ],
      "metadata": {
        "id": "sDMvVEAk0RXb"
      },
      "execution_count": null,
      "outputs": []
    },
    {
      "cell_type": "code",
      "source": [
        "#MAKING VOTING ARRAY AS WELL AS 10 CLASS ARRAY\n",
        "label_names=[]\n",
        "xx=1\n",
        "while(xx<len(label)):\n",
        "  label_names.append(label[xx])\n",
        "  xx=xx+5\n",
        "Voting_Array=np.zeros((1,10))      #Will take the maximum of votes from this array at the end of program\n",
        "print(Voting_Array)\n",
        "print(label_names)"
      ],
      "metadata": {
        "colab": {
          "base_uri": "https://localhost:8080/"
        },
        "id": "7E71zoT_2LwM",
        "outputId": "2f0be78e-eae2-4cd6-fc48-b2008112066c"
      },
      "execution_count": null,
      "outputs": [
        {
          "output_type": "stream",
          "name": "stdout",
          "text": [
            "[[0. 0. 0. 0. 0. 0. 0. 0. 0. 0.]]\n",
            "[array([array(['morgan freeman'], dtype='<U14')], dtype=object), array([array(['ahsan khan'], dtype='<U10')], dtype=object), array([array(['tom cruise'], dtype='<U10')], dtype=object), array([array(['sanam baloch'], dtype='<U12')], dtype=object), array([array(['meryl streep'], dtype='<U12')], dtype=object), array([array(['bilawal bhutto'], dtype='<U14')], dtype=object), array([array(['Viola Davis'], dtype='<U11')], dtype=object), array([array(['aishwarya rai'], dtype='<U13')], dtype=object), array([array(['fawad khan'], dtype='<U10')], dtype=object), array([array(['mahira khan'], dtype='<U11')], dtype=object)]\n"
          ]
        }
      ]
    },
    {
      "cell_type": "code",
      "source": [
        "#Calculating the Euclidean Distances of test Image with each Image present in the data \n",
        "distance_values=[]\n",
        "my_image_vector = np.reshape(my_image,[-1], order=\"F\")\n",
        "\n",
        "\n",
        "    #Read your image here\n",
        "my_image=(cv2.imread(test_image))\n",
        "my_image=cv2.cvtColor(my_image, cv2.COLOR_RGB2BGR)\n",
        "   \n",
        "    #Resize your image\n",
        "my_image=cv2.resize(my_image,(32,32))\n",
        "    #Reshape your image as we reshape the image of dataset\n",
        "my_image_vector = np.reshape(my_image,[-1], order=\"F\")\n",
        "for i in range(50):\n",
        "        G = im[:,:,:,i]\n",
        "        G = np.reshape(G,[-1], order=\"F\")\n",
        "        #Calculate Eucleadian distance between your image and dataset \n",
        "        my_distance=np.sqrt(np.sum(np.square(G-my_image_vector)))\n",
        "        #my_distance=np.linalg.norm(G-my_image_vector)\n",
        "        distance_values.append(my_distance)"
      ],
      "metadata": {
        "id": "EAtSywcE208l"
      },
      "execution_count": null,
      "outputs": []
    },
    {
      "cell_type": "markdown",
      "source": [
        "### 1 NN"
      ],
      "metadata": {
        "id": "kXZuym94-Yca"
      }
    },
    {
      "cell_type": "code",
      "source": [
        "# Write code for 1 NN\n",
        "#Find min distance\n",
        "#Fine at which point min value exists\n",
        "minimum_value_index=0;\n",
        "minpos = distance_values.index(min(distance_values)) \n",
        "minimum_value_index=minpos;\n",
        "print(min(distance_values))\n",
        "print('FOR K=1 , THE INPUT PICTURE BEST RESEMBLES WITH THE Picture No ' + str(minpos) + '  Of the Given Data Set')\n",
        "print(label[minpos])\n",
        "plt.imshow(im[:,:,:,minpos])"
      ],
      "metadata": {
        "colab": {
          "base_uri": "https://localhost:8080/",
          "height": 335
        },
        "id": "Ps6jJBwK25_b",
        "outputId": "6cb0fe39-ab49-43e6-c425-1aac7a118dc8"
      },
      "execution_count": null,
      "outputs": [
        {
          "output_type": "stream",
          "name": "stdout",
          "text": [
            "469.07995054148284\n",
            "FOR K=1 , THE INPUT PICTURE BEST RESEMBLES WITH THE Picture No 5  Of the Given Data Set\n",
            "[array(['ahsan khan'], dtype='<U10')]\n"
          ]
        },
        {
          "output_type": "execute_result",
          "data": {
            "text/plain": [
              "<matplotlib.image.AxesImage at 0x7fc5b52ec050>"
            ]
          },
          "metadata": {},
          "execution_count": 7
        },
        {
          "output_type": "display_data",
          "data": {
            "text/plain": [
              "<Figure size 432x288 with 1 Axes>"
            ],
            "image/png": "[encoded data removed]"
          },
          "metadata": {
            "needs_background": "light"
          }
        }
      ]
    },
    {
      "cell_type": "markdown",
      "source": [
        "### 3 NN "
      ],
      "metadata": {
        "id": "zW-AeX4a5y0U"
      }
    },
    {
      "cell_type": "code",
      "source": [
        "#3 NN\n",
        "#Write code for 3 NN\n",
        "#Find 3 min distances\n",
        "#Find their instances\n",
        "#hint: Use for Loop\n",
        "\n",
        "K=3\n",
        "smallest_distance_index = 0\n",
        "Voting_Array=np.zeros((1,10))       #Will take the maximum of votes from this array at the end of program\n",
        "temp_array=distance_values[:]          #Creating Temporay Array which is modifed again and again in the below loop\n",
        "\n",
        "for i in range(K):\n",
        "  \n",
        "  minpos = temp_array.index(min(temp_array))     #find smallest distance in the array\n",
        "  \n",
        "  if i==0:\n",
        "    smallest_distance_index=minpos\n",
        "\n",
        "  label_name_in_current_loop=label[minpos]       #find name of actor from label array\n",
        "  voting_index = label_names.index(label_name_in_current_loop) # find index of that actor in label_names array (having 10 names only)\n",
        "  Voting_Array[0,voting_index]=Voting_Array[0,voting_index]+1   #add a vote to that actor as resembling to my image\n",
        "  \n",
        "\n",
        "  print('Minimum value is ')\n",
        "  print(min(temp_array))\n",
        "  temp_array[minpos]=max(temp_array)+1000\n",
        "Voting_Array"
      ],
      "metadata": {
        "colab": {
          "base_uri": "https://localhost:8080/"
        },
        "id": "atC5U8dZ2_Ar",
        "outputId": "d443d640-48f9-40cb-e5c7-073e6e85361d"
      },
      "execution_count": null,
      "outputs": [
        {
          "output_type": "stream",
          "name": "stdout",
          "text": [
            "Minimum value is \n",
            "469.07995054148284\n",
            "Minimum value is \n",
            "481.9367178375186\n",
            "Minimum value is \n",
            "489.475229199599\n"
          ]
        },
        {
          "output_type": "execute_result",
          "data": {
            "text/plain": [
              "array([[0., 1., 0., 0., 2., 0., 0., 0., 0., 0.]])"
            ]
          },
          "metadata": {},
          "execution_count": 8
        }
      ]
    },
    {
      "cell_type": "code",
      "source": [
        "#Checking if We have Tie results or NOT\n",
        "Max_vote = np.amax((Voting_Array)) \n",
        "Max_vote_index=np.argmax(Voting_Array)\n",
        "Voting_Array[0,Max_vote_index]=0\n",
        "Max_vote2 = np.amax((Voting_Array))\n",
        "if Max_vote==Max_vote2:\n",
        "  print('Tie Has Occured using this value of K')\n",
        "  print('So the Closest Matching Picture with respect to Distance is Picture No ' + str(smallest_distance_index) + ' Of the Data Set')\n",
        "  plt.imshow(im[:,:,:,smallest_distance_index])\n",
        "  print(label[smallest_distance_index])\n",
        "else:\n",
        "  print('So the Closest Matching Picture with respect to Voting is Picture No ' + str(label_names[Max_vote_index]) + ' Of the Data Set')"
      ],
      "metadata": {
        "colab": {
          "base_uri": "https://localhost:8080/"
        },
        "id": "wD3H3aN_3AUy",
        "outputId": "faa44edd-15ba-4917-b850-7232cd96892e"
      },
      "execution_count": null,
      "outputs": [
        {
          "output_type": "stream",
          "name": "stdout",
          "text": [
            "So the Closest Matching Picture with respect to Voting is Picture No [array(['meryl streep'], dtype='<U12')] Of the Data Set\n"
          ]
        }
      ]
    },
    {
      "cell_type": "markdown",
      "source": [
        "### 5 NN"
      ],
      "metadata": {
        "id": "t8p4GKP_54Sl"
      }
    },
    {
      "cell_type": "code",
      "source": [
        "#Write code for 5 NN\n",
        "#Find 5 min distances\n",
        "#Find their instances\n",
        "#hint: Use for Loop\n",
        "\n",
        "K=5\n",
        "Voting_Array=np.zeros((1,10))       #Will take the maximum of votes from this array at the end of program\n",
        "temp_array=distance_values[:]          #Creating Temporay Array which is modifed again and again in the below loop\n",
        "\n",
        "for i in range(K):\n",
        "  \n",
        "  minpos = temp_array.index(min(temp_array))     #find smallest distance in the array\n",
        "  label_name_in_current_loop=label[minpos]       #find name of actor from label array\n",
        "  voting_index = label_names.index(label_name_in_current_loop) # find index of that actor in label_names array (having 10 names only)\n",
        "  Voting_Array[0,voting_index]=Voting_Array[0,voting_index]+1   #add a vote to that actor as resembling to my image\n",
        "  \n",
        "\n",
        "  print('first minimum value is ')\n",
        "  print(min(temp_array))\n",
        "  temp_array[minpos]=max(temp_array)+1000\n",
        "Voting_Array"
      ],
      "metadata": {
        "colab": {
          "base_uri": "https://localhost:8080/"
        },
        "id": "Lh1g5AwM3Gap",
        "outputId": "c0c1029d-3261-4179-87ba-8491b9c19ec0"
      },
      "execution_count": null,
      "outputs": [
        {
          "output_type": "stream",
          "name": "stdout",
          "text": [
            "first minimum value is \n",
            "469.07995054148284\n",
            "first minimum value is \n",
            "481.9367178375186\n",
            "first minimum value is \n",
            "489.475229199599\n",
            "first minimum value is \n",
            "509.79996076892746\n",
            "first minimum value is \n",
            "523.302971518412\n"
          ]
        },
        {
          "output_type": "execute_result",
          "data": {
            "text/plain": [
              "array([[0., 1., 0., 0., 2., 1., 0., 0., 0., 1.]])"
            ]
          },
          "metadata": {},
          "execution_count": 10
        }
      ]
    },
    {
      "cell_type": "code",
      "source": [
        "#Checking if We have Tie results or NOT\n",
        "Max_vote = np.amax((Voting_Array)) \n",
        "Max_vote_index=np.argmax(Voting_Array)\n",
        "Voting_Array[0,Max_vote_index]=0\n",
        "Max_vote2 = np.amax((Voting_Array))\n",
        "if Max_vote==Max_vote2:\n",
        "  print('Tie Has Occured using this value of K')\n",
        "  print('So the Closest Matching Picture with respect to Distance is Picture No ' + str(smallest_distance_index) + '  Of the Data Set')\n",
        "  plt.imshow(im[:,:,:,smallest_distance_index])\n",
        "  print(label[smallest_distance_index])\n",
        "else:\n",
        "  print('So the Closest Matching Actor with respect to Voting is ' + str(label_names[Max_vote_index]) + '  Of the Data Set')"
      ],
      "metadata": {
        "colab": {
          "base_uri": "https://localhost:8080/"
        },
        "id": "fcapnxL23Kp1",
        "outputId": "9cc7bb99-8c04-4b46-e5aa-d456cd408be0"
      },
      "execution_count": null,
      "outputs": [
        {
          "output_type": "stream",
          "name": "stdout",
          "text": [
            "So the Closest Matching Actor with respect to Voting is [array(['meryl streep'], dtype='<U12')]  Of the Data Set\n"
          ]
        }
      ]
    }
  ]
}