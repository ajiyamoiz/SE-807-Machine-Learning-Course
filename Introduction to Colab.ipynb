{
  "nbformat": 4,
  "nbformat_minor": 0,
  "metadata": {
    "colab": {
      "provenance": []
    },
    "kernelspec": {
      "name": "python3",
      "display_name": "Python 3"
    },
    "language_info": {
      "name": "python"
    }
  },
  "cells": [
    {
      "cell_type": "code",
      "metadata": {
        "colab": {
          "base_uri": "https://localhost:8080/"
        },
        "id": "bnViFrYU4VLO",
        "outputId": "73b678c3-10b5-4c2a-8670-2a394505e68c"
      },
      "source": [
        "from google.colab import drive\n",
        "drive.mount('/content/drive', force_remount=True)"
      ],
      "execution_count": null,
      "outputs": [
        {
          "output_type": "stream",
          "name": "stdout",
          "text": [
            "Mounted at /content/drive\n"
          ]
        }
      ]
    },
    {
      "cell_type": "code",
      "metadata": {
        "colab": {
          "base_uri": "https://localhost:8080/",
          "height": 35
        },
        "id": "gf5PSD1N5BPr",
        "outputId": "7561e788-b5e8-457f-e11c-92701d9310bf"
      },
      "source": [
        "pwd"
      ],
      "execution_count": null,
      "outputs": [
        {
          "output_type": "execute_result",
          "data": {
            "text/plain": [
              "'/content'"
            ],
            "application/vnd.google.colaboratory.intrinsic+json": {
              "type": "string"
            }
          },
          "metadata": {},
          "execution_count": 2
        }
      ]
    },
    {
      "cell_type": "code",
      "metadata": {
        "colab": {
          "base_uri": "https://localhost:8080/"
        },
        "id": "eB7CgPeR5UbR",
        "outputId": "5d7da21d-b57a-490e-a3d9-f946947aacb2"
      },
      "source": [
        "ls"
      ],
      "execution_count": null,
      "outputs": [
        {
          "output_type": "stream",
          "name": "stdout",
          "text": [
            "\u001b[0m\u001b[01;34mdrive\u001b[0m/  \u001b[01;34msample_data\u001b[0m/\n"
          ]
        }
      ]
    },
    {
      "cell_type": "code",
      "metadata": {
        "colab": {
          "base_uri": "https://localhost:8080/"
        },
        "id": "xeGLYwIC5trO",
        "outputId": "eaf60939-829a-4d87-d41f-7a66b22365a5"
      },
      "source": [
        "cd drive/"
      ],
      "execution_count": null,
      "outputs": [
        {
          "output_type": "stream",
          "name": "stdout",
          "text": [
            "/content/drive\n"
          ]
        }
      ]
    },
    {
      "cell_type": "code",
      "metadata": {
        "colab": {
          "base_uri": "https://localhost:8080/",
          "height": 35
        },
        "id": "3QS9narY53Oz",
        "outputId": "ecc1adca-2feb-4d01-de89-f1b5a124411a"
      },
      "source": [
        "pwd"
      ],
      "execution_count": null,
      "outputs": [
        {
          "output_type": "execute_result",
          "data": {
            "text/plain": [
              "'/content/drive'"
            ],
            "application/vnd.google.colaboratory.intrinsic+json": {
              "type": "string"
            }
          },
          "metadata": {},
          "execution_count": 5
        }
      ]
    },
    {
      "cell_type": "code",
      "metadata": {
        "colab": {
          "base_uri": "https://localhost:8080/"
        },
        "id": "zGzo0W-z58fP",
        "outputId": "58e1b5f4-bab5-4411-acea-219d22e89dd4"
      },
      "source": [
        "ls"
      ],
      "execution_count": null,
      "outputs": [
        {
          "output_type": "stream",
          "name": "stdout",
          "text": [
            "\u001b[0m\u001b[01;34mMyDrive\u001b[0m/  \u001b[01;34mShareddrives\u001b[0m/\n"
          ]
        }
      ]
    },
    {
      "cell_type": "code",
      "metadata": {
        "colab": {
          "base_uri": "https://localhost:8080/"
        },
        "id": "VyEnkuTM6DGF",
        "outputId": "d967f9ea-c6a7-4b3b-a67d-8998d76d52bd"
      },
      "source": [
        "cd MyDrive/"
      ],
      "execution_count": null,
      "outputs": [
        {
          "output_type": "stream",
          "name": "stdout",
          "text": [
            "/content/drive/MyDrive\n"
          ]
        }
      ]
    },
    {
      "cell_type": "code",
      "metadata": {
        "id": "IbHRz6rJ6K8b"
      },
      "source": [
        "ls"
      ],
      "execution_count": null,
      "outputs": []
    },
    {
      "cell_type": "code",
      "source": [
        "pwd"
      ],
      "metadata": {
        "colab": {
          "base_uri": "https://localhost:8080/",
          "height": 35
        },
        "id": "PF0GuRWq5TsH",
        "outputId": "0dc59452-9b51-4e77-ce8d-d0b584e01231"
      },
      "execution_count": null,
      "outputs": [
        {
          "output_type": "execute_result",
          "data": {
            "text/plain": [
              "'/content/drive/MyDrive'"
            ],
            "application/vnd.google.colaboratory.intrinsic+json": {
              "type": "string"
            }
          },
          "metadata": {},
          "execution_count": 9
        }
      ]
    },
    {
      "cell_type": "code",
      "metadata": {
        "colab": {
          "base_uri": "https://localhost:8080/"
        },
        "id": "hEy86B6M6V5T",
        "outputId": "71422112-6006-40ee-f1ad-27fc5ad49b15"
      },
      "source": [
        "cd Colab Notebooks/"
      ],
      "execution_count": null,
      "outputs": [
        {
          "output_type": "stream",
          "name": "stdout",
          "text": [
            "/content/drive/MyDrive/Colab Notebooks\n"
          ]
        }
      ]
    },
    {
      "cell_type": "code",
      "source": [],
      "metadata": {
        "id": "xGLtrBHJaKS3"
      },
      "execution_count": null,
      "outputs": []
    },
    {
      "cell_type": "code",
      "source": [
        "ls"
      ],
      "metadata": {
        "id": "lZIYmNZo5b0Z"
      },
      "execution_count": null,
      "outputs": []
    },
    {
      "cell_type": "code",
      "source": [
        "cd Untitled\\ folder"
      ],
      "metadata": {
        "colab": {
          "base_uri": "https://localhost:8080/"
        },
        "id": "TeUtZAP25kSl",
        "outputId": "41681489-79e6-4a82-e5db-74440b9c284d"
      },
      "execution_count": null,
      "outputs": [
        {
          "output_type": "stream",
          "name": "stdout",
          "text": [
            "/content/drive/MyDrive/Colab Notebooks/Untitled folder\n"
          ]
        }
      ]
    },
    {
      "cell_type": "code",
      "source": [
        "ls"
      ],
      "metadata": {
        "colab": {
          "base_uri": "https://localhost:8080/"
        },
        "id": "6ZiymA-_5was",
        "outputId": "bd555033-adbd-4cd8-a699-8b5bb52bc668"
      },
      "execution_count": null,
      "outputs": [
        {
          "output_type": "stream",
          "name": "stdout",
          "text": [
            "\u001b[0m\u001b[01;34mDay1\u001b[0m/  \u001b[01;34mhangman\u001b[0m/  \u001b[01;34mjustAnotherFolder\u001b[0m/\n"
          ]
        }
      ]
    },
    {
      "cell_type": "code",
      "source": [
        "cd hangman/"
      ],
      "metadata": {
        "colab": {
          "base_uri": "https://localhost:8080/"
        },
        "id": "MpOZBQDO5zNu",
        "outputId": "801605e3-aafc-4dcb-eb83-d2ec2c7aba71"
      },
      "execution_count": null,
      "outputs": [
        {
          "output_type": "stream",
          "name": "stdout",
          "text": [
            "/content/drive/MyDrive/Colab Notebooks/Untitled folder/hangman\n"
          ]
        }
      ]
    },
    {
      "cell_type": "code",
      "source": [
        "ls"
      ],
      "metadata": {
        "colab": {
          "base_uri": "https://localhost:8080/"
        },
        "id": "gRrzuLtLsxoq",
        "outputId": "367a100e-9a2f-4f22-808d-dd4f74e3bcd9"
      },
      "execution_count": null,
      "outputs": [
        {
          "output_type": "stream",
          "name": "stdout",
          "text": [
            "mistake1.jpg  mistake3.jpg  mistake5.jpg  mistake7.jpg  mistake9.jpg\n",
            "mistake2.jpg  mistake4.jpg  mistake6.jpg  mistake8.jpg\n"
          ]
        }
      ]
    },
    {
      "cell_type": "code",
      "source": [
        "pwd"
      ],
      "metadata": {
        "colab": {
          "base_uri": "https://localhost:8080/",
          "height": 35
        },
        "id": "B-dHI80xwc4B",
        "outputId": "a9b0ece8-13fe-4b43-d308-2b87cf7b5084"
      },
      "execution_count": null,
      "outputs": [
        {
          "output_type": "execute_result",
          "data": {
            "text/plain": [
              "'/content/drive/MyDrive/Colab Notebooks/Untitled folder/hangman'"
            ],
            "application/vnd.google.colaboratory.intrinsic+json": {
              "type": "string"
            }
          },
          "metadata": {},
          "execution_count": 15
        }
      ]
    },
    {
      "cell_type": "code",
      "source": [
        "cd ../Day1/Day1/Task2/"
      ],
      "metadata": {
        "colab": {
          "base_uri": "https://localhost:8080/"
        },
        "id": "2Dq0eryixW4L",
        "outputId": "ebed8dc7-4ac7-4c1b-ffb7-f08bb2addc77"
      },
      "execution_count": null,
      "outputs": [
        {
          "output_type": "stream",
          "name": "stdout",
          "text": [
            "[Errno 2] No such file or directory: '../Day1/Day1/Task2/'\n",
            "/content/drive/MyDrive/Colab Notebooks/Untitled folder/hangman\n"
          ]
        }
      ]
    },
    {
      "cell_type": "code",
      "source": [
        "cd .."
      ],
      "metadata": {
        "colab": {
          "base_uri": "https://localhost:8080/"
        },
        "id": "NjXRw7Zoxoje",
        "outputId": "902655ab-79e5-4618-d1b1-b04c2d5ff045"
      },
      "execution_count": null,
      "outputs": [
        {
          "output_type": "stream",
          "name": "stdout",
          "text": [
            "/content/drive/MyDrive/Colab Notebooks/Untitled folder\n"
          ]
        }
      ]
    },
    {
      "cell_type": "code",
      "source": [
        "cd Day1/Day\\ 1/"
      ],
      "metadata": {
        "colab": {
          "base_uri": "https://localhost:8080/"
        },
        "id": "c9-wUgFQx_UF",
        "outputId": "93527a13-e85b-4481-c25d-c65062ad52a0"
      },
      "execution_count": null,
      "outputs": [
        {
          "output_type": "stream",
          "name": "stdout",
          "text": [
            "/content/drive/MyDrive/Colab Notebooks/Untitled folder/Day1/Day 1\n"
          ]
        }
      ]
    },
    {
      "cell_type": "code",
      "source": [
        "cd Task2"
      ],
      "metadata": {
        "colab": {
          "base_uri": "https://localhost:8080/"
        },
        "id": "X4VVqJdDyj1U",
        "outputId": "3b11b3e6-5a1f-4e9e-f141-d0455376a076"
      },
      "execution_count": null,
      "outputs": [
        {
          "output_type": "stream",
          "name": "stdout",
          "text": [
            "/content/drive/MyDrive/Colab Notebooks/Untitled folder/Day1/Day 1/Task2\n"
          ]
        }
      ]
    },
    {
      "cell_type": "code",
      "source": [
        "ls"
      ],
      "metadata": {
        "colab": {
          "base_uri": "https://localhost:8080/"
        },
        "id": "YluJaU4-ymqg",
        "outputId": "2d14329a-daa3-4d76-da23-6180b31794c2"
      },
      "execution_count": null,
      "outputs": [
        {
          "output_type": "stream",
          "name": "stdout",
          "text": [
            " 100171.jpg   444238.jpg   826128.jpg         'images (7).jpg'\n",
            " 102685.jpg   445310.jpg   828179.jpg         'images (80).jpg'\n",
            " 103773.jpg   453637.jpg   83736.jpg          'images (81).jpg'\n",
            " 111104.jpg   454739.jpg   838467.jpg         'images (82).jpg'\n",
            " 115988.jpg   4560.jpg     839402.jpg         'images (83).jpg'\n",
            " 119092.jpg   468811.jpg   839615.jpg         'images (84).jpg'\n",
            " 128887.jpg   469775.jpg   840206.jpg         'images (85).jpg'\n",
            " 130726.jpg   473502.jpg   840255.jpg         'images (86).jpg'\n",
            " 13193.jpg    482830.jpg   842548.jpg         'images (87).jpg'\n",
            " 137920.jpg   485014.jpg   847081.jpg         'images (88).jpg'\n",
            " 139345.jpg   486984.jpg   847209.jpg         'images (89).jpg'\n",
            " 141101.jpg   492659.jpg   848105.jpg         'images (8).jpg'\n",
            " 143302.jpg   493457.jpg   850082.jpg         'images (90).jpg'\n",
            " 145185.jpg   503437.jpg   852641.jpg         'images (91).jpg'\n",
            " 145195.jpg   50483.jpg    854815.jpg         'images (92).jpg'\n",
            " 145512.jpg   505379.jpg   858073.jpg         'images (93).jpg'\n",
            " 146072.jpg   509950.jpg   865166.jpg         'images (94).jpg'\n",
            " 153019.jpg   510742.jpg   876470.jpg         'images (95).jpg'\n",
            " 155229.jpg   517494.jpg   876850.jpg         'images (96).jpg'\n",
            " 155509.jpg   519386.jpg   877171.jpg         'images (97).jpg'\n",
            " 155828.jpg   522730.jpg   880050.jpg         'images (98).jpg'\n",
            " 156277.jpg   523324.jpg   880738.jpg         'images (99).jpg'\n",
            " 158493.jpg   524107.jpg   884374.jpg         'images (9).jpg'\n",
            " 16299.jpg    525392.jpg   89357.jpg          'images - Copy (10).png'\n",
            " 164486.jpg   525987.jpg   894838.jpg         'images - Copy (11).png'\n",
            " 168329.jpg   527214.jpg   898858.jpg         'images - Copy (12).png'\n",
            " 171443.jpg   530948.jpg   907365.jpg         'images - Copy (13).png'\n",
            " 17882.jpg    532712.jpg   908898.jpg         'images - Copy (14).png'\n",
            " 181535.jpg   532742.jpg   912422.jpg         'images - Copy (15).png'\n",
            " 186136.jpg   540709.jpg   912474.jpg         'images - Copy (16).png'\n",
            " 186805.jpg   542108.jpg   913897.jpg         'images - Copy (17).png'\n",
            " 188317.jpg   543189.jpg   916007.jpg         'images - Copy (18).png'\n",
            " 190997.jpg   544767.jpg   917182.jpg         'images - Copy (19).png'\n",
            " 193027.jpg   545887.jpg   917557.jpg         'images - Copy (20).png'\n",
            " 193056.jpg   55450.jpg    924839.jpg         'images - Copy (21).png'\n",
            " 194129.jpg   556310.jpg   925988.jpg         'images - Copy (2).png'\n",
            " 200275.jpg   556762.jpg   927619.jpg         'images - Copy (3).png'\n",
            " 208696.jpg   564579.jpg   927841.jpg         'images - Copy (4).png'\n",
            " 209491.jpg   567049.jpg   928525.jpg         'images - Copy (5).png'\n",
            " 212241.jpg   568568.jpg   931249.jpg         'images - Copy (6).png'\n",
            " 212390.jpg   572512.jpg   949578.jpg         'images - Copy (7).png'\n",
            " 218014.jpg   573432.jpg   961292.jpg         'images - Copy (8).png'\n",
            " 2182.jpg     574138.jpg   961419.jpg         'images - Copy (9).png'\n",
            " 219222.jpg   575820.jpg   968601.jpg         'images - Copy.png'\n",
            " 228698.jpg   580327.jpg   985537.jpg          images.jpg\n",
            " 235154.jpg   581156.jpg   989402.jpg          images.png\n",
            " 242150.jpg   582171.jpg  'images (100).jpg'  'index - Copy (10).png'\n",
            " 245302.jpg   591090.jpg  'images (10).jpg'   'index - Copy (11).png'\n",
            " 248526.jpg   595347.jpg  'images (11).jpg'   'index - Copy (12).png'\n",
            " 250150.jpg   597672.jpg  'images (12).jpg'   'index - Copy (13).png'\n",
            " 251327.jpg   599327.jpg  'images (13).jpg'   'index - Copy (14).png'\n",
            " 251395.jpg   600109.jpg  'images (14).jpg'   'index - Copy (15).png'\n",
            " 257301.jpg   601054.jpg  'images (15).jpg'   'index - Copy (16).png'\n",
            " 257927.jpg   601200.jpg  'images (16).jpg'   'index - Copy (17).png'\n",
            " 258179.jpg   60251.jpg   'images (17).jpg'   'index - Copy (18).png'\n",
            " 258540.jpg   604996.jpg  'images (18).jpg'   'index - Copy (19).png'\n",
            " 26135.jpg    610036.jpg  'images (19).jpg'   'index - Copy (20).png'\n",
            " 264441.jpg   610661.jpg  'images (1).jpg'    'index - Copy (21).png'\n",
            " 264675.jpg   613827.jpg  'images (20).jpg'   'index - Copy (2).png'\n",
            " 269660.jpg   618228.jpg  'images (21).jpg'   'index - Copy (3).png'\n",
            " 270672.jpg   618513.jpg  'images (22).jpg'   'index - Copy (4).png'\n",
            " 276086.jpg   619286.jpg  'images (23).jpg'   'index - Copy (5).png'\n",
            " 276520.jpg   621102.jpg  'images (24).jpg'   'index - Copy (6).png'\n",
            " 280708.jpg   6256.jpg    'images (25).jpg'   'index - Copy (7).png'\n",
            " 280933.jpg   627071.jpg  'images (26).jpg'   'index - Copy (8).png'\n",
            " 282474.jpg   629525.jpg  'images (27).jpg'   'index - Copy (9).png'\n",
            " 282948.jpg   630385.jpg  'images (28).jpg'   'index - Copy.png'\n",
            " 283040.jpg   631183.jpg  'images (29).jpg'    index.png\n",
            " 283794.jpg   635188.jpg  'images (2).jpg'    'pic1 - Copy (10).gif'\n",
            " 284021.jpg   636308.jpg  'images (30).jpg'   'pic1 - Copy (2).gif'\n",
            " 285152.jpg   636534.jpg  'images (31).jpg'   'pic1 - Copy (3).gif'\n",
            " 286973.jpg   640699.jpg  'images (32).jpg'   'pic1 - Copy (4).gif'\n",
            " 289443.jpg   640806.jpg  'images (33).jpg'   'pic1 - Copy (5).gif'\n",
            " 29174.jpg    645595.jpg  'images (34).jpg'   'pic1 - Copy (6).gif'\n",
            " 292846.jpg   646657.jpg  'images (35).jpg'   'pic1 - Copy (7).gif'\n",
            " 295158.jpg   654787.jpg  'images (36).jpg'   'pic1 - Copy (8).gif'\n",
            " 306616.jpg   65497.jpg   'images (37).jpg'   'pic1 - Copy (9).gif'\n",
            " 309098.jpg   656975.jpg  'images (38).jpg'   'pic1 - Copy.gif'\n",
            " 312250.jpg   658128.jpg  'images (39).jpg'    pic1.gif\n",
            " 315947.jpg   660825.jpg  'images (3).jpg'    'pic - Copy (10).png'\n",
            " 317185.jpg   67369.jpg   'images (40).jpg'   'pic - Copy (11).png'\n",
            " 325841.jpg   673838.jpg  'images (41).jpg'   'pic - Copy (12).png'\n",
            " 328789.jpg   675077.jpg  'images (42).jpg'   'pic - Copy (13).png'\n",
            " 329220.jpg   675458.jpg  'images (43).jpg'   'pic - Copy (14).png'\n",
            " 331995.jpg   682403.jpg  'images (44).jpg'   'pic - Copy (15).png'\n",
            " 333847.jpg   682974.jpg  'images (45).jpg'   'pic - Copy (16).png'\n",
            " 333879.jpg   6833.jpg    'images (46).jpg'   'pic - Copy (17).png'\n",
            " 333991.jpg   68844.jpg   'images (47).jpg'   'pic - Copy (18).png'\n",
            " 339664.jpg   689402.jpg  'images (48).jpg'   'pic - Copy (19).png'\n",
            " 344339.jpg   691077.jpg  'images (49).jpg'   'pic - Copy (20).png'\n",
            " 34456.jpg    694343.jpg  'images (4).jpg'    'pic - Copy (21).png'\n",
            " 346986.jpg   696278.jpg  'images (50).jpg'   'pic - Copy (2).png'\n",
            " 34715.jpg    698335.jpg  'images (51).jpg'   'pic - Copy (3).png'\n",
            " 348157.jpg   703943.jpg  'images (52).jpg'   'pic - Copy (4).png'\n",
            " 349172.jpg   714199.jpg  'images (53).jpg'   'pic - Copy (5).png'\n",
            " 355833.jpg   720175.jpg  'images (54).jpg'   'pic - Copy (6).png'\n",
            " 360006.jpg   722785.jpg  'images (55).jpg'   'pic - Copy (7).png'\n",
            " 361936.jpg   726559.jpg  'images (56).jpg'   'pic - Copy (8).png'\n",
            " 374506.jpg   727447.jpg  'images (57).jpg'   'pic - Copy (9).png'\n",
            " 378100.jpg   729614.jpg  'images (58).jpg'   'pic - Copy.png'\n",
            " 378950.jpg   73812.jpg   'images (59).jpg'    pic.png\n",
            " 387162.jpg   742221.jpg  'images (5).jpg'    'python - Copy (10).png'\n",
            " 39489.jpg    742312.jpg  'images (60).jpg'   'python - Copy (11).png'\n",
            " 398674.jpg   745988.jpg  'images (61).jpg'   'python - Copy (12).png'\n",
            " 39878.jpg    747753.jpg  'images (62).jpg'   'python - Copy (13).png'\n",
            " 400358.jpg   750110.jpg  'images (63).jpg'   'python - Copy (14).png'\n",
            " 402313.jpg   750982.jpg  'images (64).jpg'   'python - Copy (15).png'\n",
            " 404887.jpg   755998.jpg  'images (65).jpg'   'python - Copy (16).png'\n",
            " 408218.jpg   762961.jpg  'images (66).jpg'   'python - Copy (17).png'\n",
            " 409606.jpg   766170.jpg  'images (67).jpg'   'python - Copy (18).png'\n",
            " 410378.jpg   773514.jpg  'images (68).jpg'   'python - Copy (19).png'\n",
            " 411642.jpg   787982.jpg  'images (69).jpg'   'python - Copy (20).png'\n",
            " 414882.jpg   789357.jpg  'images (6).jpg'    'python - Copy (2).png'\n",
            " 418663.jpg   790485.jpg  'images (70).jpg'   'python - Copy (3).png'\n",
            " 419509.jpg   793944.jpg  'images (71).jpg'   'python - Copy (4).png'\n",
            " 419825.jpg   79445.jpg   'images (72).jpg'   'python - Copy (5).png'\n",
            " 420924.jpg   796685.jpg  'images (73).jpg'   'python - Copy (6).png'\n",
            " 424648.jpg   803054.jpg  'images (74).jpg'   'python - Copy (7).png'\n",
            " 42618.jpg    805065.jpg  'images (75).jpg'   'python - Copy (8).png'\n",
            " 426822.jpg   806114.jpg  'images (76).jpg'   'python - Copy (9).png'\n",
            " 434586.jpg   811212.jpg  'images (77).jpg'   'python - Copy.png'\n",
            " 438154.jpg   811629.jpg  'images (78).jpg'    python.png\n",
            " 443971.jpg   821596.jpg  'images (79).jpg'\n"
          ]
        }
      ]
    },
    {
      "cell_type": "code",
      "source": [
        "pwd"
      ],
      "metadata": {
        "colab": {
          "base_uri": "https://localhost:8080/",
          "height": 35
        },
        "id": "vYvEUBIKxqqx",
        "outputId": "a16138cb-94da-4c89-a122-05adfff8d705"
      },
      "execution_count": null,
      "outputs": [
        {
          "output_type": "execute_result",
          "data": {
            "text/plain": [
              "'/content/drive/MyDrive/Colab Notebooks/Untitled folder'"
            ],
            "application/vnd.google.colaboratory.intrinsic+json": {
              "type": "string"
            }
          },
          "metadata": {},
          "execution_count": 18
        }
      ]
    },
    {
      "cell_type": "code",
      "source": [
        "cd hangman/"
      ],
      "metadata": {
        "colab": {
          "base_uri": "https://localhost:8080/"
        },
        "id": "EuRGk7Hsxxab",
        "outputId": "4b48269a-6c19-4efc-90b3-88d1e815b745"
      },
      "execution_count": null,
      "outputs": [
        {
          "output_type": "stream",
          "name": "stdout",
          "text": [
            "/content/drive/MyDrive/Colab Notebooks/Untitled folder/hangman\n"
          ]
        }
      ]
    },
    {
      "cell_type": "code",
      "source": [
        "from PIL import Image\n",
        "from pylab import *\n",
        "\n",
        "dumImg = Image.open('/content/drive/MyDrive/Colab Notebooks/Untitled folder/hangman/mistake1.jpg').convert('L')\n",
        "imshow(dumImg)"
      ],
      "metadata": {
        "colab": {
          "base_uri": "https://localhost:8080/",
          "height": 286
        },
        "id": "nmorbBJVbqkH",
        "outputId": "77ea4349-287c-49cf-9080-9d1050fc422d"
      },
      "execution_count": null,
      "outputs": [
        {
          "output_type": "execute_result",
          "data": {
            "text/plain": [
              "<matplotlib.image.AxesImage at 0x7f93678c1b10>"
            ]
          },
          "metadata": {},
          "execution_count": 12
        },
        {
          "output_type": "display_data",
          "data": {
            "text/plain": [
              "<Figure size 432x288 with 1 Axes>"
            ],
            "image/png": "[encoded data removed]"
          },
          "metadata": {
            "needs_background": "light"
          }
        }
      ]
    },
    {
      "cell_type": "code",
      "source": [
        "ls"
      ],
      "metadata": {
        "colab": {
          "base_uri": "https://localhost:8080/"
        },
        "id": "5tufZGUV56_W",
        "outputId": "3243bd44-c8c0-4de4-e789-b4403de5c873"
      },
      "execution_count": null,
      "outputs": [
        {
          "output_type": "stream",
          "name": "stdout",
          "text": [
            "mistake1.jpg  mistake3.jpg  mistake5.jpg  mistake7.jpg  mistake9.jpg\n",
            "mistake2.jpg  mistake4.jpg  mistake6.jpg  mistake8.jpg\n"
          ]
        }
      ]
    },
    {
      "cell_type": "code",
      "source": [
        "pwd\n"
      ],
      "metadata": {
        "colab": {
          "base_uri": "https://localhost:8080/",
          "height": 35
        },
        "id": "kO4_Rhvbax2n",
        "outputId": "12559708-5b53-4851-b800-b0bae787ff00"
      },
      "execution_count": null,
      "outputs": [
        {
          "output_type": "execute_result",
          "data": {
            "text/plain": [
              "'/content/drive/MyDrive/Colab Notebooks/Untitled folder/hangman'"
            ],
            "application/vnd.google.colaboratory.intrinsic+json": {
              "type": "string"
            }
          },
          "metadata": {},
          "execution_count": 10
        }
      ]
    },
    {
      "cell_type": "code",
      "source": [
        "cd Day 1"
      ],
      "metadata": {
        "colab": {
          "base_uri": "https://localhost:8080/"
        },
        "id": "VFpP0ywL59C-",
        "outputId": "c913b0d4-fa30-4d48-b1ed-c68d74585f85"
      },
      "execution_count": null,
      "outputs": [
        {
          "output_type": "stream",
          "name": "stdout",
          "text": [
            "/content/drive/MyDrive/Colab Notebooks/Untitled folder/Day1/Day 1\n"
          ]
        }
      ]
    },
    {
      "cell_type": "code",
      "source": [
        "ls"
      ],
      "metadata": {
        "colab": {
          "base_uri": "https://localhost:8080/"
        },
        "id": "q5vFtH4t6ADt",
        "outputId": "5b3cd815-26aa-4037-f446-c39f18df38a9"
      },
      "execution_count": null,
      "outputs": [
        {
          "output_type": "stream",
          "name": "stdout",
          "text": [
            "\u001b[0m\u001b[01;34m'Task1(Game)'\u001b[0m/   \u001b[01;34mTask2\u001b[0m/\n"
          ]
        }
      ]
    },
    {
      "cell_type": "code",
      "source": [
        "cd Task2/"
      ],
      "metadata": {
        "colab": {
          "base_uri": "https://localhost:8080/"
        },
        "id": "J1LKqhm_6Dkg",
        "outputId": "dbba88ac-123d-4c3f-b146-c9ba6b6b62d3"
      },
      "execution_count": null,
      "outputs": [
        {
          "output_type": "stream",
          "name": "stdout",
          "text": [
            "/content/drive/MyDrive/Colab Notebooks/Untitled folder/Day1/Day 1/Task2\n"
          ]
        }
      ]
    },
    {
      "cell_type": "code",
      "source": [
        "ls"
      ],
      "metadata": {
        "id": "ZInrvzF96Gxh"
      },
      "execution_count": null,
      "outputs": []
    },
    {
      "cell_type": "code",
      "source": [
        "ls *.jpg"
      ],
      "metadata": {
        "id": "ZouvpsUczGi_"
      },
      "execution_count": null,
      "outputs": []
    },
    {
      "cell_type": "code",
      "source": [
        "ls *.jpg | wc -l"
      ],
      "metadata": {
        "colab": {
          "base_uri": "https://localhost:8080/"
        },
        "id": "rXBwHUgz6Mfp",
        "outputId": "d294fd7b-d582-4532-9d08-59d907364ff4"
      },
      "execution_count": null,
      "outputs": [
        {
          "output_type": "stream",
          "name": "stdout",
          "text": [
            "393\n"
          ]
        }
      ]
    },
    {
      "cell_type": "code",
      "metadata": {
        "id": "zFaOiG1NUiWm"
      },
      "source": [
        "rmdir dummy"
      ],
      "execution_count": null,
      "outputs": []
    },
    {
      "cell_type": "code",
      "metadata": {
        "id": "E_cVGGwj6gS8"
      },
      "source": [
        "ls"
      ],
      "execution_count": null,
      "outputs": []
    },
    {
      "cell_type": "code",
      "source": [],
      "metadata": {
        "id": "VTreBY9t6LP_"
      },
      "execution_count": null,
      "outputs": []
    },
    {
      "cell_type": "code",
      "metadata": {
        "id": "MWysCDUU69FE"
      },
      "source": [
        "ls *.mat"
      ],
      "execution_count": null,
      "outputs": []
    },
    {
      "cell_type": "code",
      "metadata": {
        "colab": {
          "base_uri": "https://localhost:8080/"
        },
        "id": "XNtkayLcTZLl",
        "outputId": "40a16bd6-2dcf-428f-b73d-915b813b3256"
      },
      "source": [
        "ls"
      ],
      "execution_count": null,
      "outputs": [
        {
          "output_type": "stream",
          "name": "stdout",
          "text": [
            "\u001b[0m\u001b[01;34mMyDrive\u001b[0m/  \u001b[01;34mShareddrives\u001b[0m/\n"
          ]
        }
      ]
    },
    {
      "cell_type": "code",
      "source": [],
      "metadata": {
        "id": "NIwSGnGh30BY"
      },
      "execution_count": null,
      "outputs": []
    },
    {
      "cell_type": "code",
      "metadata": {
        "colab": {
          "base_uri": "https://localhost:8080/"
        },
        "id": "r0MmZab73AlM",
        "outputId": "0f578cd6-fd5e-4c33-9a97-616d8f124d7e"
      },
      "source": [
        "import numpy as np\n",
        "x = np.array([1,2,3,4,5,6])\n",
        "print(x)"
      ],
      "execution_count": null,
      "outputs": [
        {
          "output_type": "stream",
          "text": [
            "[1 2 3 4 5 6]\n"
          ],
          "name": "stdout"
        }
      ]
    },
    {
      "cell_type": "markdown",
      "metadata": {
        "id": "YzuDLmwV3fra"
      },
      "source": [
        "Accessing second element of array\n"
      ]
    },
    {
      "cell_type": "code",
      "metadata": {
        "colab": {
          "base_uri": "https://localhost:8080/"
        },
        "id": "8uZNnSeY3PXG",
        "outputId": "e665e7ba-8e90-4cb6-fb06-4ddfb4f05eda"
      },
      "source": [
        "x[1]"
      ],
      "execution_count": null,
      "outputs": [
        {
          "output_type": "execute_result",
          "data": {
            "text/plain": [
              "2"
            ]
          },
          "metadata": {
            "tags": []
          },
          "execution_count": 2
        }
      ]
    },
    {
      "cell_type": "code",
      "metadata": {
        "colab": {
          "base_uri": "https://localhost:8080/"
        },
        "id": "BERJ4MUMbizm",
        "outputId": "6c0c9960-95de-43dd-9456-283010350fc6"
      },
      "source": [
        "import numpy as np\n",
        "\n",
        "x= np.arange(1,8)\n",
        "print(x)"
      ],
      "execution_count": null,
      "outputs": [
        {
          "output_type": "stream",
          "name": "stdout",
          "text": [
            "[1 2 3 4 5 6 7]\n"
          ]
        }
      ]
    },
    {
      "cell_type": "code",
      "metadata": {
        "colab": {
          "base_uri": "https://localhost:8080/"
        },
        "id": "dZTCBB3sckLI",
        "outputId": "8e89d113-68e6-46cb-9259-d16da89c537e"
      },
      "source": [
        "print(x[6])"
      ],
      "execution_count": null,
      "outputs": [
        {
          "output_type": "stream",
          "name": "stdout",
          "text": [
            "7\n"
          ]
        }
      ]
    }
  ]
}